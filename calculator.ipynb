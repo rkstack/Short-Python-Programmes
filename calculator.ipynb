{
 "cells": [
  {
   "cell_type": "markdown",
   "metadata": {},
   "source": [
    "# Calculator"
   ]
  },
  {
   "cell_type": "markdown",
   "metadata": {},
   "source": [
    "### Write a program that performs the tasks of a simple calculator. The program should first take an integer as input and then based on that integer perform the task as given below."
   ]
  },
  {
   "cell_type": "code",
   "execution_count": null,
   "metadata": {},
   "outputs": [],
   "source": [
    "while True:\n",
    "    n=int(input())               #takes input from user for deciding type of operation\n",
    "    if(n==1):\n",
    "        b1=int(input())\n",
    "        c1=int(input())\n",
    "        print(b1+c1)\n",
    "    elif(n==2):\n",
    "        b2=int(input())\n",
    "        c2=int(input())\n",
    "        print(b2-c2)\n",
    "    elif(n==3):\n",
    "        b3=int(input())\n",
    "        c3=int(input())\n",
    "        print(b3*c3)\n",
    "    elif(n==4):\n",
    "        b4=int(input())\n",
    "        c4=int(input())\n",
    "        print(b4//c4)\n",
    "    elif(n==5):\n",
    "        b5=int(input())\n",
    "        c5=int(input())\n",
    "        print(b5%c5)\n",
    "    elif(n==6):\n",
    "        break\n",
    "    else:\n",
    "        print(\"Invalid Operation\")"
   ]
  }
 ],
 "metadata": {
  "kernelspec": {
   "display_name": "Python 3",
   "language": "python",
   "name": "python3"
  },
  "language_info": {
   "codemirror_mode": {
    "name": "ipython",
    "version": 3
   },
   "file_extension": ".py",
   "mimetype": "text/x-python",
   "name": "python",
   "nbconvert_exporter": "python",
   "pygments_lexer": "ipython3",
   "version": "3.8.5"
  }
 },
 "nbformat": 4,
 "nbformat_minor": 4
}
