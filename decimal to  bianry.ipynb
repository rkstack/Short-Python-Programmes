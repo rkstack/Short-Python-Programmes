{
 "cells": [
  {
   "cell_type": "markdown",
   "metadata": {},
   "source": [
    "# Decimal to Binary "
   ]
  },
  {
   "cell_type": "markdown",
   "metadata": {},
   "source": [
    "### Given a decimal number (integer N), convert it into binary and print.\n",
    "### The binary number should be in the form of an integer.\n",
    "### Note: The given input number could be large, so the corresponding binary number can exceed the integer range. So you may want to take the answer as long for CPP and Java.\n",
    "\n",
    "\n",
    "### Note for C++ coders: Do not use the inbuilt implementation of \"pow\" function. The implementation of that function is done for 'double's and it may fail when used for 'int's, 'long's, or 'long long's. Implement your own \"pow\" function to work for non-float data types."
   ]
  },
  {
   "cell_type": "code",
   "execution_count": 39,
   "metadata": {},
   "outputs": [
    {
     "name": "stdout",
     "output_type": "stream",
     "text": [
      "11\n"
     ]
    },
    {
     "data": {
      "text/plain": [
       "[1, 0, 1, 1]"
      ]
     },
     "execution_count": 39,
     "metadata": {},
     "output_type": "execute_result"
    }
   ],
   "source": [
    "\n",
    "n=int(input())\n",
    "quotient=n\n",
    "rbinary=[]\n",
    "binary=[]\n",
    "\n",
    "if n>0:\n",
    "    while quotient>0:\n",
    "        remainder=(quotient%2)\n",
    "        quotient=(quotient//2)\n",
    "        rbinary.append(remainder)\n",
    "else:\n",
    "    rbinary.append(n)\n",
    "    \n",
    "for i in range(len(rbinary)):\n",
    "    binary.append(rbinary[-(i+1)])\n",
    "    print(binary[i],end='')\n",
    "    "
   ]
  }
 ],
 "metadata": {
  "kernelspec": {
   "display_name": "Python 3",
   "language": "python",
   "name": "python3"
  },
  "language_info": {
   "codemirror_mode": {
    "name": "ipython",
    "version": 3
   },
   "file_extension": ".py",
   "mimetype": "text/x-python",
   "name": "python",
   "nbconvert_exporter": "python",
   "pygments_lexer": "ipython3",
   "version": "3.8.5"
  }
 },
 "nbformat": 4,
 "nbformat_minor": 4
}
