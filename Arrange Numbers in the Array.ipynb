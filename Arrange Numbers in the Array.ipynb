{
 "cells": [
  {
   "cell_type": "markdown",
   "metadata": {},
   "source": [
    "# Arrange Numbers in the Array "
   ]
  },
  {
   "cell_type": "markdown",
   "metadata": {},
   "source": [
    "### given an empty array(ARR) and its size N. The only input taken from the user will be N and task is to populate the array using the integer values in the range 1 to N(both inclusive) in the order - 1,3,.......4,2."
   ]
  },
  {
   "cell_type": "code",
   "execution_count": null,
   "metadata": {},
   "outputs": [],
   "source": [
    "from sys import stdin\n",
    "\n",
    "def arrange(arr, a) :\n",
    "    j=0\n",
    "  \n",
    "    for i in range(1,a+1,2):\n",
    "        arr[j]=i\n",
    "        j+=1\n",
    "    \n",
    "    if a%2==0:\n",
    "    \tfor i in range(a,1,-2):\n",
    "            arr[j]=i\n",
    "            j+=1\n",
    "    else:\n",
    "        for i in range(a-1,1,-2):\n",
    "            arr[j]=i\n",
    "            j+=1\n",
    "    \n",
    "    return arr\n",
    "\n",
    "\n",
    "\n",
    "#to print the array/list\n",
    "def printList(arr, n) :\n",
    "    for i in range(n) :\n",
    "        print(arr[i], end = ' ')\n",
    "    print()\n",
    "\n",
    "\n",
    "\n",
    "#main\n",
    "t = int(stdin.readline().strip())\n",
    "\n",
    "while t > 0 :\n",
    "    n = int(stdin.readline().strip())\n",
    "    arr = n * [0]\n",
    "    arrange(arr, n)\n",
    "    printList(arr, n)\n",
    "    t -= 1"
   ]
  }
 ],
 "metadata": {
  "kernelspec": {
   "display_name": "Python 3",
   "language": "python",
   "name": "python3"
  },
  "language_info": {
   "codemirror_mode": {
    "name": "ipython",
    "version": 3
   },
   "file_extension": ".py",
   "mimetype": "text/x-python",
   "name": "python",
   "nbconvert_exporter": "python",
   "pygments_lexer": "ipython3",
   "version": "3.8.5"
  }
 },
 "nbformat": 4,
 "nbformat_minor": 4
}
