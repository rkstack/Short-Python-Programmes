{
 "cells": [
  {
   "cell_type": "markdown",
   "metadata": {},
   "source": [
    "#   Fibonacci Member  "
   ]
  },
  {
   "cell_type": "markdown",
   "metadata": {},
   "source": [
    "### Given a number N, figure out if it is a member of fibonacci series or not. Return true if the number is member of fibonacci series else false. Fibonacci Series is defined by the recurrence"
   ]
  },
  {
   "cell_type": "code",
   "execution_count": null,
   "metadata": {},
   "outputs": [],
   "source": [
    "\n",
    "def checkMember(n):\n",
    "    j=0\n",
    "    k=1\n",
    "    num=0\n",
    "    while num<=n:\n",
    "        if num==n:\n",
    "            return True\n",
    "        num=j+k\n",
    "        j=k\n",
    "        k=num\n",
    "\n",
    "\n",
    "#Implement Your Code Here\n",
    "\n",
    "n=int(input())\n",
    "if (checkMember(n)):\n",
    "    print(\"true\")\n",
    "else:\n",
    "    print(\"false\")"
   ]
  }
 ],
 "metadata": {
  "kernelspec": {
   "display_name": "Python 3",
   "language": "python",
   "name": "python3"
  },
  "language_info": {
   "codemirror_mode": {
    "name": "ipython",
    "version": 3
   },
   "file_extension": ".py",
   "mimetype": "text/x-python",
   "name": "python",
   "nbconvert_exporter": "python",
   "pygments_lexer": "ipython3",
   "version": "3.8.5"
  }
 },
 "nbformat": 4,
 "nbformat_minor": 4
}
