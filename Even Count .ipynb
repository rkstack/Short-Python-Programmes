{
 "cells": [
  {
   "cell_type": "markdown",
   "metadata": {},
   "source": [
    "#   Even Count  "
   ]
  },
  {
   "cell_type": "markdown",
   "metadata": {},
   "source": [
    "### You are provided with an integer array where each number is present either odd number of times or even number of times. You have to find and return the number which is present even number of times. If multiple numbers are present even number of times, then return that number which occurs first among these numbers in the given array. If no such number exists, then return -1. Note : You may take extra space but solve this problem in O(n) time.\n"
   ]
  },
  {
   "cell_type": "code",
   "execution_count": null,
   "metadata": {},
   "outputs": [],
   "source": [
    "def evenCount(string):\n",
    "    dic={}\n",
    "    for a in string:\n",
    "        dic[a]=dic.get(a,0)+1\n",
    "\n",
    "        \n",
    "    for i in string:\n",
    "        if (dic[i]%2)==0:\n",
    "            return i\n",
    "\n",
    "        \n",
    "# Main\n",
    "n=int(input())\n",
    "arr=list(int(i) for i in input().strip().split(' '))\n",
    "print(evenCount(arr))"
   ]
  }
 ],
 "metadata": {
  "kernelspec": {
   "display_name": "Python 3",
   "language": "python",
   "name": "python3"
  },
  "language_info": {
   "codemirror_mode": {
    "name": "ipython",
    "version": 3
   },
   "file_extension": ".py",
   "mimetype": "text/x-python",
   "name": "python",
   "nbconvert_exporter": "python",
   "pygments_lexer": "ipython3",
   "version": "3.8.5"
  }
 },
 "nbformat": 4,
 "nbformat_minor": 4
}
