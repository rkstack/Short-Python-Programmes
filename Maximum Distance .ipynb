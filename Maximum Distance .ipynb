{
 "cells": [
  {
   "cell_type": "markdown",
   "metadata": {},
   "source": [
    "#   Maximum Distance  "
   ]
  },
  {
   "cell_type": "markdown",
   "metadata": {},
   "source": [
    "### Given an array that might contain duplicate elements, find the maximum possible distance between occurrences of two repeating elements i.e. elements having same value. If there are no duplicate elements in the array, return 0."
   ]
  },
  {
   "cell_type": "code",
   "execution_count": null,
   "metadata": {},
   "outputs": [],
   "source": [
    "from sys import stdin\n",
    "\n",
    "def maxfreq(arr,n):\n",
    "\n",
    "    mp = {}\n",
    "    maxDict=0\n",
    " \n",
    "\n",
    "    for i in range(n):\n",
    "\n",
    "        if arr[i] not in mp.keys():\n",
    "\n",
    "            mp[arr[i]] = i\n",
    "\n",
    "        else:\n",
    "\n",
    "            maxDict = max(maxDict, i-mp[arr[i]])\n",
    " \n",
    "\n",
    "    return maxDict\n",
    "  \n",
    "    \n",
    "def takeInput():\n",
    "    #To take fast I/O\n",
    "    n=int(stdin.readline().strip())\n",
    "    x=-1\n",
    "    if n==0:\n",
    "        return list(),0\n",
    "    arr=list(map(int,stdin.readline().strip().split( )))\n",
    "    return arr,n\n",
    "\n",
    "arr,n=takeInput()\n",
    "print(maxfreq(arr,n))"
   ]
  }
 ],
 "metadata": {
  "kernelspec": {
   "display_name": "Python 3",
   "language": "python",
   "name": "python3"
  },
  "language_info": {
   "codemirror_mode": {
    "name": "ipython",
    "version": 3
   },
   "file_extension": ".py",
   "mimetype": "text/x-python",
   "name": "python",
   "nbconvert_exporter": "python",
   "pygments_lexer": "ipython3",
   "version": "3.8.5"
  }
 },
 "nbformat": 4,
 "nbformat_minor": 4
}
