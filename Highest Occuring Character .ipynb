{
 "cells": [
  {
   "cell_type": "markdown",
   "metadata": {},
   "source": [
    "# Highest Occuring Character "
   ]
  },
  {
   "cell_type": "markdown",
   "metadata": {},
   "source": [
    "### For a given a string(str), find and return the highest occurring character."
   ]
  },
  {
   "cell_type": "code",
   "execution_count": null,
   "metadata": {},
   "outputs": [],
   "source": [
    "from sys import stdin\n",
    "\n",
    "\n",
    "def highestOccuringChar(string) :\n",
    "\n",
    "    all_freq = {}\n",
    "    for i in string:\n",
    "        if i in all_freq:\n",
    "            all_freq[i] += 1\n",
    "        else:\n",
    "            all_freq[i] = 1\n",
    "            \n",
    "    res = max(all_freq, key = all_freq.get)\n",
    "    return res\n",
    "\n",
    "  \n",
    "\n",
    "#main\n",
    "string = stdin.readline().strip();\n",
    "ans = highestOccuringChar(string)\n",
    "\n",
    "print(ans)"
   ]
  }
 ],
 "metadata": {
  "kernelspec": {
   "display_name": "Python 3",
   "language": "python",
   "name": "python3"
  },
  "language_info": {
   "codemirror_mode": {
    "name": "ipython",
    "version": 3
   },
   "file_extension": ".py",
   "mimetype": "text/x-python",
   "name": "python",
   "nbconvert_exporter": "python",
   "pygments_lexer": "ipython3",
   "version": "3.8.5"
  }
 },
 "nbformat": 4,
 "nbformat_minor": 4
}
