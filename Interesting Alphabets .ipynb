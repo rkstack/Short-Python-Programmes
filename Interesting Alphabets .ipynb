{
 "cells": [
  {
   "cell_type": "markdown",
   "metadata": {},
   "source": [
    "# Interesting Alphabets "
   ]
  },
  {
   "cell_type": "markdown",
   "metadata": {},
   "source": [
    "### Print the following pattern for the given number of rows. Pattern for N = 5\n",
    "\n",
    "### E\n",
    "### DE\n",
    "### CDE\n",
    "### BCDE\n",
    "### ABCDE"
   ]
  },
  {
   "cell_type": "code",
   "execution_count": null,
   "metadata": {},
   "outputs": [],
   "source": [
    "b=int(input())\n",
    "\n",
    "i=1\n",
    "j=1\n",
    "\n",
    "while i<=b:\n",
    "    j=1\n",
    "    k=b\n",
    "    k=k-i\n",
    "    while j<=i:\n",
    "        print(chr(ord(\"A\")+k),end='')\n",
    "        j=j+1\n",
    "        k=k+1\n",
    "\n",
    "    print('\\n',end='')\n",
    "    i=i+1"
   ]
  }
 ],
 "metadata": {
  "kernelspec": {
   "display_name": "Python 3",
   "language": "python",
   "name": "python3"
  },
  "language_info": {
   "codemirror_mode": {
    "name": "ipython",
    "version": 3
   },
   "file_extension": ".py",
   "mimetype": "text/x-python",
   "name": "python",
   "nbconvert_exporter": "python",
   "pygments_lexer": "ipython3",
   "version": "3.8.5"
  }
 },
 "nbformat": 4,
 "nbformat_minor": 4
}
