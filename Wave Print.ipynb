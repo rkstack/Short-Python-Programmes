{
 "cells": [
  {
   "cell_type": "markdown",
   "metadata": {},
   "source": [
    "# Wave Print  "
   ]
  },
  {
   "cell_type": "markdown",
   "metadata": {},
   "source": [
    "### For a given two-dimensional integer array/list of size (N x M), print the array/list in a sine wave order, i.e, print the first column top to bottom, next column bottom to top and so on."
   ]
  },
  {
   "cell_type": "code",
   "execution_count": null,
   "metadata": {},
   "outputs": [],
   "source": [
    "from sys import stdin\n",
    "\n",
    "def wavePrint(mat, nRows, mCols):\n",
    "    i=0\n",
    "    while i<=mCols-1:\n",
    "\n",
    "        if (i%2)==0:\n",
    "            j=0\n",
    "            while j<nRows:\n",
    "                print(mat[j][i],end=' ')\n",
    "                j+=1\n",
    "                \n",
    "        elif (i%2)!=0:\n",
    "            j=nRows-1\n",
    "            while j>=0:\n",
    "                print(mat[j][i],end=' ')\n",
    "                j-=1\n",
    "        i+=1\n",
    "    \n",
    "\n",
    "#Taking Iput Using Fast I/O\n",
    "def take2DInput() :\n",
    "    li = stdin.readline().rstrip().split(\" \")\n",
    "    nRows = int(li[0])\n",
    "    mCols = int(li[1])\n",
    "    \n",
    "    if nRows == 0 :\n",
    "        return list(), 0, 0\n",
    "    \n",
    "    mat = [list(map(int, input().strip().split(\" \"))) for row in range(nRows)]\n",
    "    return mat, nRows, mCols\n",
    "\n",
    "\n",
    "#main\n",
    "t = int(stdin.readline().rstrip())\n",
    "\n",
    "while t > 0 :\n",
    "\n",
    "    mat, nRows, mCols = take2DInput()\n",
    "    wavePrint(mat, nRows, mCols)\n",
    "    print()\n",
    "\n",
    "    t -= 1"
   ]
  }
 ],
 "metadata": {
  "kernelspec": {
   "display_name": "Python 3",
   "language": "python",
   "name": "python3"
  },
  "language_info": {
   "codemirror_mode": {
    "name": "ipython",
    "version": 3
   },
   "file_extension": ".py",
   "mimetype": "text/x-python",
   "name": "python",
   "nbconvert_exporter": "python",
   "pygments_lexer": "ipython3",
   "version": "3.8.5"
  }
 },
 "nbformat": 4,
 "nbformat_minor": 4
}
