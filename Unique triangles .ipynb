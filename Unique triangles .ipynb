{
 "cells": [
  {
   "cell_type": "markdown",
   "metadata": {},
   "source": [
    "#   Unique triangles "
   ]
  },
  {
   "cell_type": "markdown",
   "metadata": {},
   "source": [
    "### You are given n triangles. You are required to find how many triangles are unique out of given triangles. For each triangle you are given three integers a, b and c (the sides of a triangle). A triangle is said to be unique if there is no other triangle with same set of sides. In other words, we have to find frequency of each triangle and return the count of triangles whose frequency is 1. Note : It is always possible to form triangle with given sides."
   ]
  },
  {
   "cell_type": "code",
   "execution_count": null,
   "metadata": {},
   "outputs": [],
   "source": [
    "from sys import stdin\n",
    "\n",
    "def maxfreq(li):\n",
    "    count=0\n",
    "    n=len(li)\n",
    "    dict={}\n",
    "    newlist=[]\n",
    "\n",
    "    for i in range(n):\n",
    "        newlist.append(tuple(sorted(li[i])))\n",
    "     \n",
    "    for val in newlist:\n",
    "        if val in dict:\n",
    "            dict[val]+=1\n",
    "            \n",
    "        else:\n",
    "            dict[val]=1\n",
    "            \n",
    "    for key in dict:\n",
    "        if dict[key]==1:\n",
    "            count+=1\n",
    "            \n",
    "    return count\n",
    " \n",
    "\n",
    "def takeInput():\n",
    "    #To take fast I/O\n",
    "    n=int(stdin.readline().strip())\n",
    "    arr=[]\n",
    "    for i in range(n):\n",
    "        val=list(map(int,stdin.readline().strip().split()))\n",
    "        arr.append(val)\n",
    "    return arr\n",
    "\n",
    "stringlist=takeInput()\n",
    "print(maxfreq(stringlist))\n"
   ]
  }
 ],
 "metadata": {
  "kernelspec": {
   "display_name": "Python 3",
   "language": "python",
   "name": "python3"
  },
  "language_info": {
   "codemirror_mode": {
    "name": "ipython",
    "version": 3
   },
   "file_extension": ".py",
   "mimetype": "text/x-python",
   "name": "python",
   "nbconvert_exporter": "python",
   "pygments_lexer": "ipython3",
   "version": "3.8.5"
  }
 },
 "nbformat": 4,
 "nbformat_minor": 4
}
