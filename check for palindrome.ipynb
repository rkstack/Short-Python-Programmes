{
 "cells": [
  {
   "cell_type": "markdown",
   "metadata": {},
   "source": [
    "#  Check Palindrome "
   ]
  },
  {
   "cell_type": "markdown",
   "metadata": {},
   "source": [
    "### Given a string, determine if it is a palindrome, considering only alphanumeric characters."
   ]
  },
  {
   "cell_type": "code",
   "execution_count": 15,
   "metadata": {},
   "outputs": [
    {
     "name": "stdout",
     "output_type": "stream",
     "text": [
      "858\n",
      "true\n"
     ]
    }
   ],
   "source": [
    "def checkPalindrome(n):\n",
    "\n",
    "    def reverse(n):\n",
    "        rev=0\n",
    "        while(n>0):\n",
    "            rem=n%10   \n",
    "            rev=(rev*10)+rem  \n",
    "            n=n//10\n",
    "        return rev\n",
    "\n",
    "    num1=reverse(n)\n",
    "    \n",
    "    if num1==n:\n",
    "        flag=1\n",
    "    else:\n",
    "        flag=0\n",
    "        \n",
    "    return flag\n",
    " \n",
    "   \n",
    "    \n",
    "num = int(input())\n",
    "isPalindrome = checkPalindrome(num)\n",
    "if(isPalindrome):\n",
    "\tprint('true')\n",
    "else:\n",
    "\tprint('false')\n"
   ]
  }
 ],
 "metadata": {
  "kernelspec": {
   "display_name": "Python 3",
   "language": "python",
   "name": "python3"
  },
  "language_info": {
   "codemirror_mode": {
    "name": "ipython",
    "version": 3
   },
   "file_extension": ".py",
   "mimetype": "text/x-python",
   "name": "python",
   "nbconvert_exporter": "python",
   "pygments_lexer": "ipython3",
   "version": "3.8.5"
  }
 },
 "nbformat": 4,
 "nbformat_minor": 4
}
