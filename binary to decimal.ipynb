{
 "cells": [
  {
   "cell_type": "markdown",
   "metadata": {},
   "source": [
    "# Binary to decimal"
   ]
  },
  {
   "cell_type": "markdown",
   "metadata": {},
   "source": [
    "### Given a binary number as an integer N, convert it into decimal and print."
   ]
  },
  {
   "cell_type": "code",
   "execution_count": 7,
   "metadata": {},
   "outputs": [
    {
     "name": "stdout",
     "output_type": "stream",
     "text": [
      "1101\n",
      "13\n"
     ]
    }
   ],
   "source": [
    "n=int(input())\n",
    "quot=n\n",
    "i=0\n",
    "dec=0\n",
    "\n",
    "while quot>0:\n",
    "    idec=0\n",
    "    rem=(quot%10)\n",
    "    quot=(quot//10)\n",
    "    idec=rem*(2**i)\n",
    "    dec=dec+idec\n",
    "    i+=1\n",
    "    \n",
    "print(dec)\n",
    "    \n",
    "    "
   ]
  }
 ],
 "metadata": {
  "kernelspec": {
   "display_name": "Python 3",
   "language": "python",
   "name": "python3"
  },
  "language_info": {
   "codemirror_mode": {
    "name": "ipython",
    "version": 3
   },
   "file_extension": ".py",
   "mimetype": "text/x-python",
   "name": "python",
   "nbconvert_exporter": "python",
   "pygments_lexer": "ipython3",
   "version": "3.8.5"
  }
 },
 "nbformat": 4,
 "nbformat_minor": 4
}
