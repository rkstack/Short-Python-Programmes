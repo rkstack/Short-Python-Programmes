{
 "cells": [
  {
   "cell_type": "markdown",
   "metadata": {},
   "source": [
    "# Diamond of stars "
   ]
  },
  {
   "cell_type": "markdown",
   "metadata": {},
   "source": [
    "### Print the following pattern for the given number of rows. N is always odd. Pattern for N = 5\n",
    "\n",
    "###  --*\n",
    "### -***\n",
    "### *****\n",
    "### -***\n",
    "###  --*"
   ]
  },
  {
   "cell_type": "code",
   "execution_count": null,
   "metadata": {},
   "outputs": [],
   "source": [
    "a=int(input())\n",
    "i=1\n",
    "j=1\n",
    "n=int((a+1)/2)\n",
    "\n",
    "\n",
    "while j<=(a+1)/2:\n",
    "    print(' '*(n-1),end='')\n",
    "    print('*'*i)\n",
    "    i=i+2\n",
    "    n=n-1\n",
    "    j=j+1\n",
    "\n",
    "i=i-4\n",
    "n=n+2\n",
    "\n",
    "while j<=a:\n",
    "    print(' '*(n-1),end='')\n",
    "    print('*'*i)\n",
    "    i=i-2\n",
    "    n=n+1\n",
    "    j=j+1"
   ]
  }
 ],
 "metadata": {
  "kernelspec": {
   "display_name": "Python 3",
   "language": "python",
   "name": "python3"
  },
  "language_info": {
   "codemirror_mode": {
    "name": "ipython",
    "version": 3
   },
   "file_extension": ".py",
   "mimetype": "text/x-python",
   "name": "python",
   "nbconvert_exporter": "python",
   "pygments_lexer": "ipython3",
   "version": "3.8.5"
  }
 },
 "nbformat": 4,
 "nbformat_minor": 4
}
