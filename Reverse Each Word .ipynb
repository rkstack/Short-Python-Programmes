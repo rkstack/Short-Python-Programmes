{
 "cells": [
  {
   "cell_type": "markdown",
   "metadata": {},
   "source": [
    "# Reverse Each Word "
   ]
  },
  {
   "cell_type": "markdown",
   "metadata": {},
   "source": [
    "### provided with a sentence in the form of a string as a function parameter. The task is to implement a function so as to print the sentence such that each word in the sentence is reversed."
   ]
  },
  {
   "cell_type": "code",
   "execution_count": null,
   "metadata": {},
   "outputs": [],
   "source": [
    "\n",
    "from sys import stdin\n",
    "\n",
    "\n",
    "def reverseEachWord(string) :\n",
    "    \n",
    "    liststring=string.split()\n",
    "    l=len(liststring)\n",
    "    val=''\n",
    "\n",
    "\n",
    "    for i in range (l):\n",
    "        m=len(liststring[i])\n",
    "        for j in range (m):\n",
    "            val+=liststring[i][-(j+1)]\n",
    "        val+=' '\n",
    "\n",
    "    return val\n",
    "        "
   ]
  }
 ],
 "metadata": {
  "kernelspec": {
   "display_name": "Python 3",
   "language": "python",
   "name": "python3"
  },
  "language_info": {
   "codemirror_mode": {
    "name": "ipython",
    "version": 3
   },
   "file_extension": ".py",
   "mimetype": "text/x-python",
   "name": "python",
   "nbconvert_exporter": "python",
   "pygments_lexer": "ipython3",
   "version": "3.8.5"
  }
 },
 "nbformat": 4,
 "nbformat_minor": 4
}
