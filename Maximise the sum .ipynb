{
 "cells": [
  {
   "cell_type": "markdown",
   "metadata": {},
   "source": [
    "#   Maximise the sum "
   ]
  },
  {
   "cell_type": "markdown",
   "metadata": {},
   "source": [
    "### Given 2 sorted arrays (in increasing order), find a path through the intersections that produces maximum sum and return the maximum sum. That is, we can switch from one array to another array only at common elements. If no intersection element is present, we need to take sum of all elements from the array with greater sum."
   ]
  },
  {
   "cell_type": "code",
   "execution_count": null,
   "metadata": {},
   "outputs": [],
   "source": [
    "from sys import stdin\n",
    "\n",
    "\n",
    "def MaximiseSum(M, arrM, N, arrN):\n",
    "\n",
    "    i, j = 0, 0\n",
    " \n",
    "    result, suM1, suM2 = 0, 0, 0\n",
    "\n",
    "    while (i < M and j < N):\n",
    " \n",
    "        if arrM[i] < arrN[j]:\n",
    "            suM1 += arrM[i]\n",
    "            i += 1\n",
    "\n",
    "        elif arrM[i] > arrN[j]:\n",
    "            suM2 += arrN[j]\n",
    "            j += 1\n",
    " \n",
    "        else:   \n",
    "            result += max(suM1, suM2) +arrM[i]\n",
    "            suM1 = 0\n",
    "            suM2 = 0\n",
    "            i +=1\n",
    "            j +=1\n",
    "\n",
    "    while i < M:\n",
    "        suM1 += arrM[i]\n",
    "        i += 1\n",
    "\n",
    "    while j < N:\n",
    "        suM2 += arrN[j]\n",
    "        j += 1\n",
    "\n",
    "    result += max(suM1, suM2)\n",
    " \n",
    "    print(result)\n",
    "\n",
    "\n",
    "#Taking Input Using Fast I/O\n",
    "def take2DInput() :\n",
    "    M = int(input())\n",
    "    arrM= list(map(int, input().strip().split(\" \")))\n",
    "    N = int(input())\n",
    "    arrN= list(map(int, input().strip().split(\" \")))\n",
    "    \n",
    "\n",
    "    return M, arrM, N, arrN\n",
    "\n",
    "\n",
    "M, arrM, N, arrN = take2DInput()\n",
    "MaximiseSum(M, arrM, N, arrN)\n",
    "\n"
   ]
  }
 ],
 "metadata": {
  "kernelspec": {
   "display_name": "Python 3",
   "language": "python",
   "name": "python3"
  },
  "language_info": {
   "codemirror_mode": {
    "name": "ipython",
    "version": 3
   },
   "file_extension": ".py",
   "mimetype": "text/x-python",
   "name": "python",
   "nbconvert_exporter": "python",
   "pygments_lexer": "ipython3",
   "version": "3.8.5"
  }
 },
 "nbformat": 4,
 "nbformat_minor": 4
}
