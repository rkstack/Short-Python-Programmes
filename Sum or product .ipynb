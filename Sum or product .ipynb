{
 "cells": [
  {
   "cell_type": "markdown",
   "metadata": {},
   "source": [
    "# Sum or product  "
   ]
  },
  {
   "cell_type": "markdown",
   "metadata": {},
   "source": [
    "### Write a program that asks the user for a number N and a choice C. And then give them the possibility to choose between computing the sum and computing the product of all integers in the range 1 to N (both inclusive)."
   ]
  },
  {
   "cell_type": "code",
   "execution_count": null,
   "metadata": {},
   "outputs": [],
   "source": [
    "n=int(input())\n",
    "c=int(input())\n",
    "a=-1\n",
    "\n",
    "def multi(n):\n",
    "    prod=1\n",
    "    while n>0:\n",
    "        prod=prod*n\n",
    "        n=n-1\n",
    "    return prod\n",
    "\n",
    "def nsum(n):\n",
    "    sm=0\n",
    "    while n>=1:\n",
    "        sm=sm+n\n",
    "        n=n-1\n",
    "    return sm\n",
    "\n",
    "if c==1:\n",
    "    print(nsum(n))\n",
    "\n",
    "    \n",
    "elif c==2:\n",
    "    print(multi(n))\n",
    "    \n",
    "    \n",
    "else:\n",
    "    print(a)"
   ]
  }
 ],
 "metadata": {
  "kernelspec": {
   "display_name": "Python 3",
   "language": "python",
   "name": "python3"
  },
  "language_info": {
   "codemirror_mode": {
    "name": "ipython",
    "version": 3
   },
   "file_extension": ".py",
   "mimetype": "text/x-python",
   "name": "python",
   "nbconvert_exporter": "python",
   "pygments_lexer": "ipython3",
   "version": "3.8.5"
  }
 },
 "nbformat": 4,
 "nbformat_minor": 4
}
