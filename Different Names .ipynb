{
 "cells": [
  {
   "cell_type": "markdown",
   "metadata": {},
   "source": [
    "#   Different Names "
   ]
  },
  {
   "cell_type": "markdown",
   "metadata": {},
   "source": [
    "### In Little Flowers Public School, there are many students with same first names. You are given a task to find the students with same names. You will be given a string comprising of all the names of students and you have to tell the name and count of those students having same. If all the names are unique, print -1 instead. Note: We don't have to mention names whose frequency is 1."
   ]
  },
  {
   "cell_type": "code",
   "execution_count": null,
   "metadata": {},
   "outputs": [],
   "source": [
    "def differentNames(l):\n",
    "    dic={}\n",
    "    \n",
    "    for name in l:\n",
    "        dic[name]=dic.get(name,0)+1\n",
    "        \n",
    "    for w in l:\n",
    "        if dic[w]==1:\n",
    "            dic.pop(w)\n",
    "            \n",
    "    return dic\n",
    "\n",
    "\n",
    "\n",
    "\n",
    "\n",
    "# Main\n",
    "names=input().strip().split()\n",
    "m=differentNames(names)\n",
    "if m:\n",
    "    for name in m:\n",
    "        print(name, m[name])\n",
    "else:\n",
    "    print(-1)"
   ]
  }
 ],
 "metadata": {
  "kernelspec": {
   "display_name": "Python 3",
   "language": "python",
   "name": "python3"
  },
  "language_info": {
   "codemirror_mode": {
    "name": "ipython",
    "version": 3
   },
   "file_extension": ".py",
   "mimetype": "text/x-python",
   "name": "python",
   "nbconvert_exporter": "python",
   "pygments_lexer": "ipython3",
   "version": "3.8.5"
  }
 },
 "nbformat": 4,
 "nbformat_minor": 4
}
