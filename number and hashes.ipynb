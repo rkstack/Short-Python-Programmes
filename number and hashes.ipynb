{
 "cells": [
  {
   "cell_type": "code",
   "execution_count": 89,
   "metadata": {},
   "outputs": [
    {
     "name": "stdout",
     "output_type": "stream",
     "text": [
      "Enter a number10\n",
      "1\n",
      "\n",
      "\n",
      "##\n",
      "123\n",
      "\n",
      "\n",
      "####\n",
      "12345\n",
      "\n",
      "\n",
      "######\n",
      "1234567\n",
      "\n",
      "\n",
      "########\n",
      "123456789\n",
      "\n",
      "\n",
      "##########\n"
     ]
    }
   ],
   "source": [
    "Num=int(input('Enter a number'))\n",
    "\n",
    "Numlist=list(range(1,Num+1))  # [1,2,3,4,5] for input of 5\n",
    "\n",
    "for i in Numlist:      \n",
    "    Var=Numlist[i-1]   \n",
    "    \n",
    "    if (i%2)!=0:        \n",
    "        printlist=list(range(1,Var+1))  \n",
    "\n",
    "        for j in printlist:         \n",
    "            print(printlist[j-1],end='') \n",
    "        \n",
    "    else:\n",
    "        print('\\n',end='')\n",
    "        print(\"#\"*Var)\n",
    "        \n",
    "\n",
    "\n",
    "\n",
    "\n",
    "\n",
    "\n",
    "    \n"
   ]
  },
  {
   "cell_type": "code",
   "execution_count": null,
   "metadata": {},
   "outputs": [],
   "source": []
  },
  {
   "cell_type": "code",
   "execution_count": null,
   "metadata": {},
   "outputs": [],
   "source": [
    "5\n"
   ]
  }
 ],
 "metadata": {
  "kernelspec": {
   "display_name": "Python 3",
   "language": "python",
   "name": "python3"
  },
  "language_info": {
   "codemirror_mode": {
    "name": "ipython",
    "version": 3
   },
   "file_extension": ".py",
   "mimetype": "text/x-python",
   "name": "python",
   "nbconvert_exporter": "python",
   "pygments_lexer": "ipython3",
   "version": "3.8.5"
  }
 },
 "nbformat": 4,
 "nbformat_minor": 4
}
