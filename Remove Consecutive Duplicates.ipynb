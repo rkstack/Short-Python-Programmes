{
 "cells": [
  {
   "cell_type": "markdown",
   "metadata": {},
   "source": [
    "# Remove Consecutive Duplicates  "
   ]
  },
  {
   "cell_type": "markdown",
   "metadata": {},
   "source": [
    "### For a given string(str), remove all the consecutive duplicate characters."
   ]
  },
  {
   "cell_type": "code",
   "execution_count": null,
   "metadata": {},
   "outputs": [],
   "source": [
    "\n",
    "from sys import stdin\n",
    "\n",
    "def removeConsecutiveDuplicates(string) :\n",
    "    val=''\n",
    "    y=''\n",
    "    for i in string:\n",
    "        x=y\n",
    "        \n",
    "        if i==x:\n",
    "            pass\n",
    "        else:\n",
    "            val=val+i\n",
    "        y=i\n",
    "\n",
    "\n",
    "    return val\n",
    "      \n",
    "#main\n",
    "string = stdin.readline().strip()\n",
    "\n",
    "ans = removeConsecutiveDuplicates(string)\n",
    "\n",
    "print(ans)"
   ]
  }
 ],
 "metadata": {
  "kernelspec": {
   "display_name": "Python 3",
   "language": "python",
   "name": "python3"
  },
  "language_info": {
   "codemirror_mode": {
    "name": "ipython",
    "version": 3
   },
   "file_extension": ".py",
   "mimetype": "text/x-python",
   "name": "python",
   "nbconvert_exporter": "python",
   "pygments_lexer": "ipython3",
   "version": "3.8.5"
  }
 },
 "nbformat": 4,
 "nbformat_minor": 4
}
