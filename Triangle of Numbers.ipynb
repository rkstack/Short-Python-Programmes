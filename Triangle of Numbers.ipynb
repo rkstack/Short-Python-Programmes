{
 "cells": [
  {
   "cell_type": "markdown",
   "metadata": {},
   "source": [
    "# Triangle of Numbers"
   ]
  },
  {
   "cell_type": "markdown",
   "metadata": {},
   "source": [
    "### Print the following pattern for the given N number of rows.\n",
    "\n",
    "###          --- 1\n",
    "###        -- 232\n",
    "###       -34543\n",
    "###     4567654"
   ]
  },
  {
   "cell_type": "code",
   "execution_count": null,
   "metadata": {},
   "outputs": [],
   "source": [
    "b=int(input())\n",
    "n=b\n",
    "j=1\n",
    "\n",
    "while j<=b:\n",
    "    i=j\n",
    "    k=1\n",
    "    p=2\n",
    "    print(' '*(n-1),end='')\n",
    "    \n",
    "    while k<=j:       \n",
    "        print(i,end='')\n",
    "        i=i+1\n",
    "        k=k+1\n",
    "        \n",
    "    while p<=j:   \n",
    "        print(i-p,end='')\n",
    "        p=p+1\n",
    "        \n",
    "        \n",
    "    print('\\n',end='')\n",
    "    \n",
    "    n=n-1\n",
    "    j=j+1"
   ]
  }
 ],
 "metadata": {
  "kernelspec": {
   "display_name": "Python 3",
   "language": "python",
   "name": "python3"
  },
  "language_info": {
   "codemirror_mode": {
    "name": "ipython",
    "version": 3
   },
   "file_extension": ".py",
   "mimetype": "text/x-python",
   "name": "python",
   "nbconvert_exporter": "python",
   "pygments_lexer": "ipython3",
   "version": "3.8.5"
  }
 },
 "nbformat": 4,
 "nbformat_minor": 4
}
