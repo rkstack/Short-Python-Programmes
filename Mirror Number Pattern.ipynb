{
 "cells": [
  {
   "cell_type": "markdown",
   "metadata": {},
   "source": [
    "# Mirror Number Pattern "
   ]
  },
  {
   "cell_type": "markdown",
   "metadata": {},
   "source": [
    "### Print the following pattern for the given N number of rows.\n",
    "\n",
    "### ---1 \n",
    "###  --12\n",
    "###  -123\n",
    "### 1234"
   ]
  },
  {
   "cell_type": "code",
   "execution_count": null,
   "metadata": {},
   "outputs": [],
   "source": [
    "b=int(input())\n",
    "\n",
    "j=1\n",
    "k=b-1\n",
    "while j<=b:\n",
    "    i=1\n",
    "    print(' '*k,end='')\n",
    "    while i<=j:\n",
    "         print(i,end='')\n",
    "         i=i+1\n",
    "    print('\\n',end='')\n",
    "    j=j+1\n",
    "    k=k-1"
   ]
  }
 ],
 "metadata": {
  "kernelspec": {
   "display_name": "Python 3",
   "language": "python",
   "name": "python3"
  },
  "language_info": {
   "codemirror_mode": {
    "name": "ipython",
    "version": 3
   },
   "file_extension": ".py",
   "mimetype": "text/x-python",
   "name": "python",
   "nbconvert_exporter": "python",
   "pygments_lexer": "ipython3",
   "version": "3.8.5"
  }
 },
 "nbformat": 4,
 "nbformat_minor": 4
}
