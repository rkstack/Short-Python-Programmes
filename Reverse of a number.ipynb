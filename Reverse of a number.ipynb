{
 "cells": [
  {
   "cell_type": "markdown",
   "metadata": {},
   "source": [
    "# Reverse of a number "
   ]
  },
  {
   "cell_type": "markdown",
   "metadata": {},
   "source": [
    "### Write a program to generate the reverse of a given number N. Print the corresponding reverse number"
   ]
  },
  {
   "cell_type": "code",
   "execution_count": null,
   "metadata": {},
   "outputs": [],
   "source": [
    "def reverse(n):  # comments for input of 856\n",
    "    rev=0\n",
    "    while(n>0):\n",
    "        rem=n%10    # rem=6 , 5,8\n",
    "        rev=(rev*10)+rem  #rev =6,65,658\n",
    "        n=n//10   #n=85, 8,0\n",
    "    return rev\n",
    "\n",
    "n=int(input())\n",
    "\n",
    "result=reverse(n)\n",
    "\n",
    "print(result)"
   ]
  }
 ],
 "metadata": {
  "kernelspec": {
   "display_name": "Python 3",
   "language": "python",
   "name": "python3"
  },
  "language_info": {
   "codemirror_mode": {
    "name": "ipython",
    "version": 3
   },
   "file_extension": ".py",
   "mimetype": "text/x-python",
   "name": "python",
   "nbconvert_exporter": "python",
   "pygments_lexer": "ipython3",
   "version": "3.8.5"
  }
 },
 "nbformat": 4,
 "nbformat_minor": 4
}
