{
 "cells": [
  {
   "cell_type": "markdown",
   "metadata": {},
   "source": [
    "#  Leaders in array "
   ]
  },
  {
   "cell_type": "markdown",
   "metadata": {},
   "source": [
    "### Given an integer array A of size n. Find and print all the leaders present in the input array. An array element A[i] is called Leader, if all the elements following it (i.e. present at its right) are less than or equal to A[i]. Print all the leader elements separated by space and in the same order they are present in the input array."
   ]
  },
  {
   "cell_type": "code",
   "execution_count": null,
   "metadata": {},
   "outputs": [],
   "source": [
    "def printLeaders(arr,size):\n",
    "     \n",
    "    for i in range(0, size):     #i=2\n",
    "        for j in range(i+1, size):   #j=3\n",
    "            if arr[i]<arr[j]:    \n",
    "                break\n",
    "               \n",
    "        if (j == size-1) and (arr[i]>arr[size-1]): # If loop didn't break\n",
    "            print(arr[i],end=' ')\n",
    "        if i==size-1:\n",
    "            print(arr[i],end=' ')\n",
    " \n",
    "\n",
    "\n",
    " \n",
    "size = int(input())\n",
    "arr = list(map(int, input().strip().split(\" \")))\n",
    "\n",
    "printLeaders(arr,size)"
   ]
  }
 ],
 "metadata": {
  "kernelspec": {
   "display_name": "Python 3",
   "language": "python",
   "name": "python3"
  },
  "language_info": {
   "codemirror_mode": {
    "name": "ipython",
    "version": 3
   },
   "file_extension": ".py",
   "mimetype": "text/x-python",
   "name": "python",
   "nbconvert_exporter": "python",
   "pygments_lexer": "ipython3",
   "version": "3.8.5"
  }
 },
 "nbformat": 4,
 "nbformat_minor": 4
}
