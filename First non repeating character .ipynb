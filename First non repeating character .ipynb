{
 "cells": [
  {
   "cell_type": "markdown",
   "metadata": {},
   "source": [
    "#   First non repeating character "
   ]
  },
  {
   "cell_type": "markdown",
   "metadata": {},
   "source": [
    "### In a given string, find the first non-repeating character .You are given a string, that can contain repeating characters. Your task is to return the first character in this string that does not repeat. i.e., occurs exactly once. The string will contain characters only from English alphabet set, i.e., ('A' - 'Z') and ('a' - 'z'). If there is no non-repeating character print the first character of string."
   ]
  },
  {
   "cell_type": "code",
   "execution_count": null,
   "metadata": {},
   "outputs": [],
   "source": [
    "def nonRepeatingChar(string):\n",
    "    dic={}\n",
    "    for a in string:\n",
    "        dic[a]=dic.get(a,0)+1\n",
    "\n",
    "        \n",
    "    for i in string:\n",
    "        if dic[i]==1:\n",
    "            return i\n",
    "\n",
    "\n",
    "        \n",
    "\n",
    "\n",
    "# Main\n",
    "string = input()\n",
    "print(nonRepeatingChar(string))"
   ]
  }
 ],
 "metadata": {
  "kernelspec": {
   "display_name": "Python 3",
   "language": "python",
   "name": "python3"
  },
  "language_info": {
   "codemirror_mode": {
    "name": "ipython",
    "version": 3
   },
   "file_extension": ".py",
   "mimetype": "text/x-python",
   "name": "python",
   "nbconvert_exporter": "python",
   "pygments_lexer": "ipython3",
   "version": "3.8.5"
  }
 },
 "nbformat": 4,
 "nbformat_minor": 4
}
