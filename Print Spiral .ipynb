{
 "cells": [
  {
   "cell_type": "markdown",
   "metadata": {},
   "source": [
    "#  Print Spiral "
   ]
  },
  {
   "attachments": {},
   "cell_type": "markdown",
   "metadata": {},
   "source": [
    "### For a given two-dimensional integer array/list of size (N x M), print it in a spiral form. That is, you need to print in the order followed for every iteration:\n",
    "\n"
   ]
  },
  {
   "cell_type": "code",
   "execution_count": null,
   "metadata": {},
   "outputs": [],
   "source": [
    "from sys import stdin\n",
    "\n",
    "def spiralPrint(mat, nRows, mCols):\n",
    "\n",
    "    m=nRows\n",
    "    n=mCols\n",
    "    a=mat\n",
    "    k = 0\n",
    "    l = 0\n",
    " \n",
    "\n",
    " \n",
    "    while (k < m and l < n):\n",
    " \n",
    "        # Print the first row from\n",
    "        # the remaining rows\n",
    "        for i in range(l, n):\n",
    "            print(a[k][i], end=\" \")\n",
    " \n",
    "        k += 1\n",
    " \n",
    "        # Print the last column from\n",
    "        # the remaining columns\n",
    "        for i in range(k, m):\n",
    "            print(a[i][n - 1], end=\" \")\n",
    " \n",
    "        n -= 1\n",
    " \n",
    "        # Print the last row from\n",
    "        # the remaining rows\n",
    "        if (k < m):\n",
    " \n",
    "            for i in range(n - 1, (l - 1), -1):\n",
    "                print(a[m - 1][i], end=\" \")\n",
    " \n",
    "            m -= 1\n",
    " \n",
    "        # Print the first column from\n",
    "        # the remaining columns\n",
    "        if (l < n):\n",
    "            for i in range(m - 1, k - 1, -1):\n",
    "                print(a[i][l], end=\" \")\n",
    " \n",
    "            l += 1\n",
    " \n",
    " \n",
    " \n",
    "#Taking Input Using Fast I/O\n",
    "def take2DInput() :\n",
    "    li = stdin.readline().rstrip().split(\" \")\n",
    "    nRows = int(li[0])\n",
    "    mCols = int(li[1])\n",
    "    \n",
    "    if nRows == 0 :\n",
    "        return list(), 0, 0\n",
    "    \n",
    "    mat = [list(map(int, input().strip().split(\" \"))) for row in range(nRows)]\n",
    "    return mat, nRows, mCols\n",
    "\n",
    "\n",
    "#main\n",
    "t = int(stdin.readline().rstrip())\n",
    "\n",
    "while t > 0 :\n",
    "\n",
    "    mat, nRows, mCols = take2DInput()\n",
    "    spiralPrint(mat, nRows, mCols)\n",
    "    print()\n",
    "\n",
    "    t -= 1"
   ]
  }
 ],
 "metadata": {
  "kernelspec": {
   "display_name": "Python 3",
   "language": "python",
   "name": "python3"
  },
  "language_info": {
   "codemirror_mode": {
    "name": "ipython",
    "version": 3
   },
   "file_extension": ".py",
   "mimetype": "text/x-python",
   "name": "python",
   "nbconvert_exporter": "python",
   "pygments_lexer": "ipython3",
   "version": "3.8.5"
  }
 },
 "nbformat": 4,
 "nbformat_minor": 4
}
