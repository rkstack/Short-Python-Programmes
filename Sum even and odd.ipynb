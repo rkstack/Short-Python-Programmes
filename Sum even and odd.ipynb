{
 "cells": [
  {
   "cell_type": "markdown",
   "metadata": {},
   "source": [
    "# Sum of even & odd "
   ]
  },
  {
   "cell_type": "markdown",
   "metadata": {},
   "source": [
    "### Write a program to input an integer N and print the sum of all its even digits and sum of all its odd digits separately."
   ]
  },
  {
   "cell_type": "code",
   "execution_count": null,
   "metadata": {},
   "outputs": [],
   "source": [
    "def split(word):\n",
    "    return[char for char in word]\n",
    "\n",
    "num=split(input())\n",
    "ct=len(num)\n",
    "osum=0\n",
    "esum=0\n",
    "i=1\n",
    "\n",
    "\n",
    "for i in range(0,ct):\n",
    "    if (int(num[i])%2==0):\n",
    "        esum=esum+int(num[i])\n",
    "        \n",
    "    else:\n",
    "        osum=osum+int(num[i])\n",
    "\n",
    "\n",
    "print(esum,'',osum)"
   ]
  },
  {
   "cell_type": "code",
   "execution_count": null,
   "metadata": {},
   "outputs": [],
   "source": []
  }
 ],
 "metadata": {
  "kernelspec": {
   "display_name": "Python 3",
   "language": "python",
   "name": "python3"
  },
  "language_info": {
   "codemirror_mode": {
    "name": "ipython",
    "version": 3
   },
   "file_extension": ".py",
   "mimetype": "text/x-python",
   "name": "python",
   "nbconvert_exporter": "python",
   "pygments_lexer": "ipython3",
   "version": "3.8.5"
  }
 },
 "nbformat": 4,
 "nbformat_minor": 4
}
